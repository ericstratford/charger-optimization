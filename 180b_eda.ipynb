{
 "cells": [
  {
   "cell_type": "code",
   "execution_count": 1,
   "metadata": {},
   "outputs": [],
   "source": [
    "import requests\n",
    "import json\n",
    "import folium\n",
    "import numpy as np\n",
    "import pandas as pd\n",
    "import matplotlib.pyplot as plt\n",
    "import seaborn as sns\n",
    "import geopandas as gpd\n",
    "from sklearn.cluster import KMeans\n",
    "from geopy.distance import geodesic\n",
    "from scipy.stats import pearsonr, spearmanr\n",
    "from shapely.geometry import Point\n",
    "from collections import Counter\n",
    "from scipy.spatial import ConvexHull\n",
    "from shapely.geometry import Polygon"
   ]
  },
  {
   "cell_type": "markdown",
   "metadata": {},
   "source": [
    "## Data Processing"
   ]
  },
  {
   "cell_type": "code",
   "execution_count": 2,
   "metadata": {},
   "outputs": [
    {
     "name": "stdout",
     "output_type": "stream",
     "text": [
      "[91901, 91902, 91905, 91906, 91910, 91911, 91912, 91913, 91914, 91915, 91916, 91917, 91931, 91932, 91934, 91935, 91941, 91942, 91945, 91948, 91950, 91962, 91963, 91970, 91977, 91978, 91980, 92003, 92004, 92007, 92008, 92009, 92010, 92011, 92014, 92019, 92020, 92021, 92023, 92024, 92025, 92026, 92027, 92028, 92029, 92032, 92036, 92037, 92040, 92041, 92050, 92054, 92055, 92056, 92057, 92058, 92059, 92060, 92061, 92062, 92064, 92065, 92066, 92067, 92068, 92069, 92070, 92071, 92072, 92075, 92078, 92079, 92081, 92082, 92083, 92084, 92085, 92086, 92091, 92092, 92093, 92096, 92101, 92102, 92103, 92104, 92105, 92106, 92107, 92108, 92109, 92110, 92111, 92112, 92113, 92114, 92115, 92116, 92117, 92118, 92119, 92120, 92121, 92122, 92123, 92124, 92126, 92127, 92128, 92129, 92130, 92131, 92132, 92133, 92134, 92135, 92136, 92139, 92145, 92147, 92150, 92152, 92154, 92155, 92158, 92161, 92173, 92179, 92182, 92199, 92536, 92624, 92629, 92649, 92651, 92653, 92654, 92656, 92672, 92673, 92674, 92675, 92676, 92677, 92679, 92688, 92690, 92691, 92692, 92693, 92694, 92697, 95126]\n",
      "There are 153 unique zip codes\n"
     ]
    }
   ],
   "source": [
    "# process zip code list of sdge service territory\n",
    "sdge_zip = pd.read_excel(\"data/sdge_zip.xlsx\", sheet_name=0)\n",
    "unique_zip = sdge_zip['ZIP_CODE'].unique().tolist()\n",
    "print(unique_zip)\n",
    "print(\"There are \" + str(len(unique_zip)) + \" unique zip codes\")"
   ]
  },
  {
   "cell_type": "code",
   "execution_count": 3,
   "metadata": {},
   "outputs": [
    {
     "name": "stdout",
     "output_type": "stream",
     "text": [
      "      id    zip   latitude   longitude\n",
      "0   6355  92037  32.899470 -117.243000\n",
      "1  39886  92020  32.795896 -116.976156\n",
      "2  39889  92029  33.116492 -117.106837\n",
      "3  39915  91950  32.659001 -117.100836\n",
      "4  39916  92056  33.181953 -117.298334\n",
      "Number of electric vehicle chargers in SDG&E service territory: 1701\n"
     ]
    }
   ],
   "source": [
    "# load full afdc data into a dataframe\n",
    "with open('data/afdc_full.json', 'r') as f:\n",
    "    afdc = json.load(f)\n",
    "fs = afdc.get('fuel_stations', [])\n",
    "afdc_df = pd.DataFrame(fs)\n",
    "# start narrow down to electric car charger within SDG&E service territory\n",
    "sdge = afdc_df[(afdc_df['fuel_type_code'] == 'ELEC')][['id', 'zip', 'latitude', 'longitude']]\n",
    "sdge['zip'] = pd.to_numeric(sdge['zip'], errors='coerce').astype('Int64')\n",
    "sdge = sdge[sdge['zip'].isin(unique_zip)]\n",
    "sdge = sdge.reset_index(drop=True)\n",
    "print(sdge.head())\n",
    "print(\"Number of electric vehicle chargers in SDG&E service territory:\", len(sdge))"
   ]
  },
  {
   "cell_type": "code",
   "execution_count": 4,
   "metadata": {},
   "outputs": [],
   "source": [
    "# overpass API url and query\n",
    "# A node is a single point in space defined by its latitude and longitude coordinates.\n",
    "# A way represents linear or area features by connecting nodes together.\n",
    "# A relation is more complex type that defines relationships between multiple nodes, ways, or other relations.\n",
    "\n",
    "lat_min = 32.54\n",
    "lon_min = -118.06\n",
    "lat_max = 33.73\n",
    "lon_max = -116.37\n",
    "\n",
    "url = \"https://overpass-api.de/api/interpreter\"\n",
    "query = f\"\"\"\n",
    "[out:json];\n",
    "(\n",
    "  node[\"shop\"]({lat_min},{lon_min},{lat_max},{lon_max});\n",
    "  way[\"shop\"]({lat_min},{lon_min},{lat_max},{lon_max});\n",
    "  relation[\"shop\"]({lat_min},{lon_min},{lat_max},{lon_max});\n",
    "  \n",
    "  node[\"amenity\"=\"marketplace\"]({lat_min},{lon_min},{lat_max},{lon_max});\n",
    "  way[\"amenity\"=\"marketplace\"]({lat_min},{lon_min},{lat_max},{lon_max});\n",
    "  relation[\"amenity\"=\"marketplace\"]({lat_min},{lon_min},{lat_max},{lon_max});\n",
    "  \n",
    "  node[\"building\"=\"retail\"]({lat_min},{lon_min},{lat_max},{lon_max});\n",
    "  way[\"building\"=\"retail\"]({lat_min},{lon_min},{lat_max},{lon_max});\n",
    "  relation[\"building\"=\"retail\"]({lat_min},{lon_min},{lat_max},{lon_max});\n",
    ");\n",
    "out center;\n",
    "\"\"\""
   ]
  },
  {
   "cell_type": "code",
   "execution_count": 5,
   "metadata": {},
   "outputs": [
    {
     "name": "stdout",
     "output_type": "stream",
     "text": [
      "11800 results.\n"
     ]
    }
   ],
   "source": [
    "# request\n",
    "response = requests.get(url, params={\"data\": query})\n",
    "\n",
    "# check status code, save data to json, create html\n",
    "if response.status_code == 200:\n",
    "    data = response.json()\n",
    "    print(f\"{len(data['elements'])} results.\")\n",
    "\n",
    "    # # save to json\n",
    "    # with open(\"shop_sd.json\", \"w\") as file:\n",
    "    #     json.dump(data, file, indent=2)\n",
    "    #     print(\"json saved to shop_sd.json\")\n",
    "else:\n",
    "    # error handling\n",
    "    print(\"Error:\", response.status_code)\n",
    "    print(f\"Error: {response.status_code}\")"
   ]
  },
  {
   "cell_type": "code",
   "execution_count": 6,
   "metadata": {},
   "outputs": [
    {
     "name": "stdout",
     "output_type": "stream",
     "text": [
      "6229\n"
     ]
    }
   ],
   "source": [
    "# get nodes from dataset\n",
    "elements = data[\"elements\"]\n",
    "df_raw = pd.json_normalize(\n",
    "    elements,\n",
    "    sep=\"_\",\n",
    "    record_path=None,\n",
    ")\n",
    "\n",
    "# select wanted cols for nodes\n",
    "df_nodes = df_raw[df_raw['type']=='node'][[\"id\", \"type\", \"lat\", \"lon\", \"tags_name\", \"tags_shop\", \"tags_addr:postcode\"]]\n",
    "# rename cols\n",
    "df_nodes.columns = [\"id\", \"geo_type\", \"latitude\", \"longitude\", \"name\", \"shop_type\", \"postal_code\"]\n",
    "print(len(df_nodes))\n"
   ]
  },
  {
   "cell_type": "code",
   "execution_count": 7,
   "metadata": {},
   "outputs": [
    {
     "name": "stdout",
     "output_type": "stream",
     "text": [
      "5551\n"
     ]
    }
   ],
   "source": [
    "# select wanted cols for ways\n",
    "df_ways = df_raw[df_raw['type']=='way'][[\"id\", \"type\", \"center_lat\", \"center_lon\", \"tags_name\", \"tags_shop\", \"tags_addr:postcode\", \"nodes\"]]\n",
    "# rename cols\n",
    "df_ways.columns = [\"id\", \"geo_type\", \"latitude\", \"longitude\", \"name\", \"shop_type\", \"postal_code\", \"nodes\"]\n",
    "print(len(df_ways))"
   ]
  },
  {
   "cell_type": "code",
   "execution_count": 8,
   "metadata": {},
   "outputs": [],
   "source": [
    "# ignore at this point\n",
    "\n",
    "# # select wanted cols for relations\n",
    "# df_relations = df[df['type']=='relation'][[\"id\", \"type\", \"center_lat\", \"center_lon\", \"tags_name\", \"tags_shop\", \"tags_addr:postcode\", \"members\"]]\n",
    "# # rename cols\n",
    "# df_relations.columns = [\"id\", \"geo_type\", \"latitude\", \"longitude\", \"name\", \"shop_type\", \"postal_code\", \"ways\"]\n",
    "# # filter out relations with only one way\n",
    "# df_relations = df_relations[df_relations['ways'].apply(len) > 1]\n",
    "# # keep \n",
    "# df_relations['ways'] = df_relations['ways'].apply(lambda ways: [way['ref'] for way in ways])\n",
    "# # save to csv\n",
    "# df_relations.to_csv(\"shop_relations_sd.csv\", index=False)\n",
    "# print(len(df_relations))\n",
    "# print(\"relations saved to shop_relations_sd.csv\")"
   ]
  },
  {
   "cell_type": "code",
   "execution_count": 9,
   "metadata": {},
   "outputs": [],
   "source": [
    "# concat nodes and ways dfs\n",
    "df = pd.concat([df_nodes, df_ways], ignore_index=True)\n",
    "\n",
    "# Truncate postal codes to 5 digits\n",
    "df['postal_code'] = df['postal_code'].str.extract(r'(\\d{5})')\n",
    "\n",
    "# filter df so that it only has zip codes in unique_zip\n",
    "unique_zip = [str(z) for z in unique_zip]\n",
    "df['postal_code'] = df['postal_code'].astype(str)\n",
    "df = df[df['postal_code'].isin(unique_zip)]"
   ]
  },
  {
   "cell_type": "code",
   "execution_count": 10,
   "metadata": {},
   "outputs": [],
   "source": [
    "# Get missing zip codes for rows in df\n",
    "\n",
    "shapefile = \"data/tl_2024_us_zcta520.shp\"\n",
    "gdf = gpd.read_file(shapefile)\n",
    "\n",
    "if gdf.crs is None:\n",
    "    gdf = gdf.set_crs(\"EPSG:4269\")\n",
    "\n",
    "gdf = gdf.to_crs(epsg=4326)\n",
    "\n",
    "geometry = [Point(xy) for xy in zip(df['longitude'], df['latitude'])]\n",
    "geo_df = gpd.GeoDataFrame(df, geometry=geometry, crs=\"EPSG:4326\")\n",
    "\n",
    "# Perform spatial join to find matching ZCTAs\n",
    "result = gpd.sjoin(geo_df, gdf, how='left', predicate='within')\n",
    "\n",
    "# Update postal_code column with ZCTA values for missing rows\n",
    "df['postal_code'] = result['ZCTA5CE20'].combine_first(df['postal_code'])\n"
   ]
  },
  {
   "cell_type": "code",
   "execution_count": 11,
   "metadata": {},
   "outputs": [
    {
     "name": "stdout",
     "output_type": "stream",
     "text": [
      "          id geo_type   latitude   longitude                    name  \\\n",
      "0  273593057     node  32.866410 -117.232087                  Ralphs   \n",
      "1  273593515     node  32.865636 -117.232406            Trader Joe's   \n",
      "2  274188768     node  32.864687 -117.231892                PetSmart   \n",
      "3  274191517     node  32.851630 -117.214477  Sprouts Farmers Market   \n",
      "4  274193121     node  32.824288 -117.183720  Sprouts Farmers Market   \n",
      "\n",
      "     shop_type postal_code nodes  \n",
      "0  supermarket       92037   NaN  \n",
      "1  supermarket       92037   NaN  \n",
      "2          pet       92037   NaN  \n",
      "3  supermarket       92122   NaN  \n",
      "4  supermarket       92117   NaN  \n",
      "3710\n"
     ]
    }
   ],
   "source": [
    "# # save to csv\n",
    "# df.to_csv(\"shop_sd.csv\", index=False)\n",
    "# print(\"combined df saved to shop_sd.csv\")\n",
    "print(df.head())\n",
    "print(len(df))"
   ]
  },
  {
   "cell_type": "code",
   "execution_count": 12,
   "metadata": {},
   "outputs": [
    {
     "name": "stdout",
     "output_type": "stream",
     "text": [
      "map saved to shop_and_evcharger.html\n"
     ]
    }
   ],
   "source": [
    "# create Folium map\n",
    "sd_map = folium.Map(location=[32.7157, -117.1611], zoom_start=12)\n",
    "# add elements\n",
    "for _, row in df.iterrows():\n",
    "    lat = row['latitude']\n",
    "    lon = row['longitude']\n",
    "    name = row['name']\n",
    "    shop_type = row['shop_type']\n",
    "    # add marker\n",
    "    folium.CircleMarker(\n",
    "        location=[lat, lon],\n",
    "        radius=3,  # Size of the dot\n",
    "        color=\"blue\",  # Outline color\n",
    "        fill=True,  # Fill the circle\n",
    "        fill_color=\"blue\",  # Fill color\n",
    "        fill_opacity=0.7,  # Opacity of the fill\n",
    "        popup=f\"{name} ({shop_type})\"  # Popup text\n",
    "    ).add_to(sd_map)\n",
    "\n",
    "for _, row in sdge.iterrows():\n",
    "    folium.CircleMarker(\n",
    "        location=[row['latitude'], row['longitude']],\n",
    "        radius=3,\n",
    "        color=\"orange\",\n",
    "        fill=True,\n",
    "        fill_color=\"orange\",\n",
    "        fill_opacity=0.7,\n",
    "        popup=f\"Charger ID: {row['id']}; location: {row['latitude'], row['longitude']}\"\n",
    "    ).add_to(sd_map)\n",
    "# save to html\n",
    "sd_map.save(\"data/shop_and_evcharger.html\")\n",
    "print(\"map saved to shop_and_evcharger.html\")"
   ]
  },
  {
   "cell_type": "markdown",
   "metadata": {},
   "source": [
    "## Data EDA"
   ]
  },
  {
   "cell_type": "code",
   "execution_count": 13,
   "metadata": {},
   "outputs": [
    {
     "name": "stdout",
     "output_type": "stream",
     "text": [
      "Basic Info:\n",
      "<class 'pandas.core.frame.DataFrame'>\n",
      "Index: 3710 entries, 0 to 11773\n",
      "Data columns (total 8 columns):\n",
      " #   Column       Non-Null Count  Dtype  \n",
      "---  ------       --------------  -----  \n",
      " 0   id           3710 non-null   int64  \n",
      " 1   geo_type     3710 non-null   object \n",
      " 2   latitude     3710 non-null   float64\n",
      " 3   longitude    3710 non-null   float64\n",
      " 4   name         3124 non-null   object \n",
      " 5   shop_type    3160 non-null   object \n",
      " 6   postal_code  3710 non-null   object \n",
      " 7   nodes        1836 non-null   object \n",
      "dtypes: float64(2), int64(1), object(5)\n",
      "memory usage: 260.9+ KB\n",
      "None\n"
     ]
    }
   ],
   "source": [
    "# basic information\n",
    "print(\"Basic Info:\")\n",
    "print(df.info())"
   ]
  },
  {
   "cell_type": "code",
   "execution_count": 14,
   "metadata": {},
   "outputs": [
    {
     "name": "stdout",
     "output_type": "stream",
     "text": [
      "Missing Values Count:\n",
      "id                0\n",
      "geo_type          0\n",
      "latitude          0\n",
      "longitude         0\n",
      "name            586\n",
      "shop_type       550\n",
      "postal_code       0\n",
      "nodes          1874\n",
      "dtype: int64\n"
     ]
    }
   ],
   "source": [
    "# check missing values\n",
    "print(\"Missing Values Count:\")\n",
    "print(df.isnull().sum())"
   ]
  },
  {
   "cell_type": "code",
   "execution_count": 15,
   "metadata": {},
   "outputs": [
    {
     "data": {
      "image/png": "[encoded data removed]",
      "text/plain": [
       "<Figure size 600x300 with 1 Axes>"
      ]
     },
     "metadata": {},
     "output_type": "display_data"
    }
   ],
   "source": [
    "# plot missing data\n",
    "plt.figure(figsize=(6,3))\n",
    "sns.heatmap(df.isnull(), cbar=False, cmap='viridis')\n",
    "plt.title('Missing Data Heatmap')\n",
    "plt.show()"
   ]
  },
  {
   "cell_type": "code",
   "execution_count": 16,
   "metadata": {},
   "outputs": [
    {
     "data": {
      "image/png": "[encoded data removed]",
      "text/plain": [
       "<Figure size 600x300 with 1 Axes>"
      ]
     },
     "metadata": {},
     "output_type": "display_data"
    }
   ],
   "source": [
    "# distribution of some of the shop types\n",
    "plt.figure(figsize=(6,3))\n",
    "sns.countplot(data=df, x='shop_type', order=df['shop_type'].value_counts().index[:20])\n",
    "plt.title('Top 20 Shop Type Distribution')\n",
    "plt.xticks(rotation=90)\n",
    "plt.show()"
   ]
  },
  {
   "cell_type": "code",
   "execution_count": 17,
   "metadata": {},
   "outputs": [
    {
     "data": {
      "image/png": "[encoded data removed]",
      "text/plain": [
       "<Figure size 600x300 with 1 Axes>"
      ]
     },
     "metadata": {},
     "output_type": "display_data"
    }
   ],
   "source": [
    "# Distribution of Postal Codes (if available)\n",
    "plt.figure(figsize=(6,3))\n",
    "df['postal_code'].value_counts().head(20).plot(kind='bar')\n",
    "plt.title('Top 20 Postal Codes Distribution')\n",
    "plt.xlabel('Postal Code')\n",
    "plt.ylabel('Count')\n",
    "plt.xticks(rotation=90)\n",
    "plt.show()"
   ]
  },
  {
   "cell_type": "markdown",
   "metadata": {},
   "source": [
    "## Correlation Analysis"
   ]
  },
  {
   "cell_type": "code",
   "execution_count": null,
   "metadata": {},
   "outputs": [],
   "source": [
    "def haversine(lat1, lon1, lat2, lon2):\n",
    "    R = 6371.0\n",
    "    lat1, lon1, lat2, lon2 = map(np.radians, [lat1, lon1, lat2, lon2])\n",
    "    dlat = lat2 - lat1\n",
    "    dlon = lon2 - lon1\n",
    "    a = np.sin(dlat / 2)**2 + np.cos(lat1) * np.cos(lat2) * np.sin(dlon / 2)**2\n",
    "    c = 2 * np.arctan2(np.sqrt(a), np.sqrt(1 - a))\n",
    "    return R * c\n",
    "\n",
    "# Calculate distance to nearest charging station\n",
    "df['nearest_charger_distance'] = df.apply(\n",
    "    lambda row: min(haversine(row['latitude'], row['longitude'], cs['latitude'], cs['longitude']) for _, cs in sdge.iterrows()),\n",
    "    axis=1\n",
    ")\n",
    "\n",
    "# Calculate density of charging stations within 1 km\n",
    "df['charger_density'] = df.apply(\n",
    "    lambda row: sum(haversine(row['latitude'], row['longitude'], cs['latitude'], cs['longitude']) <= 1 for _, cs in sdge.iterrows()),\n",
    "    axis=1\n",
    ")\n",
    "\n",
    "# One-hot encode shop_type\n",
    "df = pd.get_dummies(df, columns=['shop_type'], prefix='shop')\n",
    "\n",
    "# Drop non-numeric columns before correlation analysis\n",
    "df_numeric = df.drop(columns=['id', 'nodes', 'name', 'geo_type'], errors='ignore')\n",
    "\n",
    "# Correlation analysis\n",
    "correlation_matrix = df_numeric.corr()\n",
    "print(correlation_matrix['nearest_charger_distance'])"
   ]
  },
  {
   "cell_type": "markdown",
   "metadata": {},
   "source": [
    "## clustering"
   ]
  },
  {
   "cell_type": "code",
   "execution_count": null,
   "metadata": {},
   "outputs": [],
   "source": [
    "coords = df[['latitude', 'longitude']]\n",
    "\n",
    "# Perform K-Means clustering\n",
    "kmeans = KMeans(n_clusters=250, random_state=42)\n",
    "df['cluster'] = kmeans.fit_predict(coords)\n",
    "\n",
    "# Calculate convex hull area for each cluster\n",
    "def calculate_convex_hull_area(cluster_points):\n",
    "    if len(cluster_points) >= 3:\n",
    "        hull = ConvexHull(cluster_points)\n",
    "        polygon = Polygon(cluster_points[hull.vertices])\n",
    "        return polygon.area\n",
    "    else:\n",
    "        return 0\n",
    "\n",
    "# Create a dictionary to store cluster info\n",
    "cluster_info = {}\n",
    "\n",
    "for cluster in df['cluster'].unique():\n",
    "    cluster_points = df[df['cluster'] == cluster][['latitude', 'longitude']].values\n",
    "    area = calculate_convex_hull_area(cluster_points)\n",
    "    shop_count = len(cluster_points)\n",
    "    cluster_info[cluster] = {'area': area, 'shop_count': shop_count}\n",
    "\n",
    "# Convert cluster_info to a DataFrame for easier sorting\n",
    "cluster_df = pd.DataFrame.from_dict(cluster_info, orient='index')\n",
    "\n",
    "# Rank clusters: first by shop count (descending), then by area (ascending)\n",
    "cluster_df['rank'] = cluster_df.apply(lambda x: (-x['shop_count'], x['area']), axis=1)\n",
    "cluster_df = cluster_df.sort_values(by='rank').reset_index()\n",
    "\n",
    "# Select the top 100 clusters\n",
    "top_100_clusters = cluster_df.head(100)['index'].tolist()\n",
    "\n",
    "# Label shops in the top 100 clusters\n",
    "df['in_top_100'] = df['cluster'].apply(lambda x: x in top_100_clusters)\n",
    "\n",
    "# Create a base map\n",
    "m = folium.Map(location=[df['latitude'].mean(), df['longitude'].mean()], zoom_start=12)\n",
    "\n",
    "# Add markers to the map\n",
    "for idx, row in df.iterrows():\n",
    "    if row['in_top_100']:\n",
    "        color = 'black'\n",
    "    else:\n",
    "        color = 'blue'\n",
    "    \n",
    "    folium.CircleMarker(\n",
    "        location=[row['latitude'], row['longitude']],\n",
    "        radius=3,\n",
    "        color=color,\n",
    "        fill=True,\n",
    "        fill_color=color,\n",
    "        fill_opacity=0.7\n",
    "    ).add_to(m)\n",
    "\n",
    "# Add boundary lines for the top 100 clusters\n",
    "for cluster in top_100_clusters:\n",
    "    cluster_points = df[df['cluster'] == cluster][['latitude', 'longitude']].values\n",
    "    if len(cluster_points) >= 3:\n",
    "        hull = ConvexHull(cluster_points)\n",
    "        boundary = cluster_points[hull.vertices]\n",
    "        folium.PolyLine(\n",
    "            locations=boundary,\n",
    "            color='red',\n",
    "            weight=2,\n",
    "            opacity=0.7\n",
    "        ).add_to(m)\n",
    "\n",
    "# Display the map\n",
    "m"
   ]
  },
  {
   "cell_type": "markdown",
   "metadata": {},
   "source": [
    "## parking lot data"
   ]
  },
  {
   "cell_type": "code",
   "execution_count": 25,
   "metadata": {},
   "outputs": [
    {
     "name": "stdout",
     "output_type": "stream",
     "text": [
      "Data retrieved successfully!\n",
      "json saved to parking_lot.json\n"
     ]
    }
   ],
   "source": [
    "lat_min = 32.54\n",
    "lon_min = -118.06\n",
    "lat_max = 33.73\n",
    "lon_max = -116.37\n",
    "\n",
    "url = \"https://overpass-api.de/api/interpreter\"\n",
    "query = f\"\"\"\n",
    "[out:json];\n",
    "(\n",
    "  node[\"amenity\"=\"parking\"]({lat_min},{lon_min},{lat_max},{lon_max});\n",
    ");\n",
    "out center;\n",
    "\"\"\"\n",
    "\n",
    "response = requests.post(url, data=query)\n",
    "if response.status_code == 200:\n",
    "    pl = response.json()\n",
    "    print(\"Data retrieved successfully!\")\n",
    "    with open(\"data/parking_lot.json\", \"w\") as file:\n",
    "        json.dump(pl, file, indent=2)\n",
    "        print(\"json saved to parking_lot.json\")\n",
    "else:\n",
    "    print(f\"Error: {response.status_code}\")\n",
    "    print(response.text)"
   ]
  },
  {
   "cell_type": "code",
   "execution_count": 26,
   "metadata": {},
   "outputs": [
    {
     "name": "stdout",
     "output_type": "stream",
     "text": [
      "397\n"
     ]
    }
   ],
   "source": [
    "ele = pl[\"elements\"]\n",
    "pl_df = pd.json_normalize(\n",
    "    ele,\n",
    "    sep=\"_\",\n",
    "    record_path=None,\n",
    ")\n",
    "\n",
    "# select wanted cols for nodes\n",
    "pl_df = pl_df[[\"id\",\"lat\", \"lon\", \"tags_access\"]]\n",
    "# rename cols\n",
    "pl_df.columns = [\"parking_lot_id\", \"latitude\", \"longitude\", \"access\"]\n",
    "print(len(pl_df))"
   ]
  },
  {
   "cell_type": "code",
   "execution_count": null,
   "metadata": {},
   "outputs": [],
   "source": [
    "geometry_pl = [Point(xy) for xy in zip(pl_df['longitude'], pl_df['latitude'])]\n",
    "geo_pl = gpd.GeoDataFrame(pl_df, geometry=geometry_pl, crs=\"EPSG:4326\")\n",
    "\n",
    "# Perform spatial join to find matching ZCTAs\n",
    "result_pl = gpd.sjoin(geo_pl, gdf, how='left', predicate='within')\n",
    "\n",
    "# Update postal_code column with ZCTA values for missing rows\n",
    "pl_df['zip_code'] = result_pl['ZCTA5CE20']\n",
    "\n",
    "pl_df.to_csv(\"parking_lot.csv\", index=False)\n",
    "print(\"combined df saved to shop_sd.csv\")"
   ]
  },
  {
   "cell_type": "code",
   "execution_count": null,
   "metadata": {},
   "outputs": [],
   "source": []
  }
 ],
 "metadata": {
  "kernelspec": {
   "display_name": "base",
   "language": "python",
   "name": "python3"
  },
  "language_info": {
   "codemirror_mode": {
    "name": "ipython",
    "version": 3
   },
   "file_extension": ".py",
   "mimetype": "text/x-python",
   "name": "python",
   "nbconvert_exporter": "python",
   "pygments_lexer": "ipython3",
   "version": "3.12.4"
  }
 },
 "nbformat": 4,
 "nbformat_minor": 2
}
